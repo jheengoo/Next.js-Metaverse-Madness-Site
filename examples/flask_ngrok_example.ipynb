{
  "nbformat": 4,
  "nbformat_minor": 0,
  "metadata": {
    "colab": {
      "name": "flask-ngrok-example.ipynb",
      "provenance": []
    },
    "kernelspec": {
      "name": "python3",
      "display_name": "Python 3"
    }
  },
  "cells": [
    {
      "metadata": {
        "id": "1cljkrUaPeyg"
      },
      "cell_type": "code",
      "source": [
        "!pip install flask-ngrok\n",
        "!pip install flask  # Newer versions of flask don't work in Colab\n",
        "!pip install --upgrade Flask\n",
        "!pip install jinja2\n",
        "                            # See https://github.com/plotly/dash/issues/257"
      ],
      "execution_count": null,
      "outputs": []
    },
    {
      "metadata": {
        "id": "H39hVXhiPtBo"
      },
      "cell_type": "code",
      "source": [
        "!ngrok config add-authtoken 303Ot908B7YvntnGMkc35CvcHoa_7a3uYVbVWyGWr5MewLpBe\n",
        "# flask_ngrok_example.py\n",
        "from flask import Flask\n",
        "from flask_ngrok import run_with_ngrok\n",
        "\n",
        "app = Flask(__name__)\n",
        "run_with_ngrok(app)  # Start ngrok when app is run\n",
        "\n",
        "@app.route(\"/\")\n",
        "def hello():\n",
        "    return \"Hello World!\"\n",
        "\n",
        "if __name__ == '__main__':\n",
        "    app.run()  # If address is in use, may need to terminate other sessions:\n",
        "               # Runtime > Manage Sessions > Terminate Other Sessions"
      ],
      "execution_count": null,
      "outputs": []
    }
  ]
}